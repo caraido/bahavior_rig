{
 "cells": [
  {
   "cell_type": "code",
   "execution_count": 1,
   "metadata": {},
   "outputs": [],
   "source": [
    "import deeplabcut"
   ]
  },
  {
   "cell_type": "code",
   "execution_count": 3,
   "metadata": {},
   "outputs": [],
   "source": [
    "ProjectName='top_A'\n",
    "NameOfLabeler='Alec'\n",
    "n_cameras=2"
   ]
  },
  {
   "cell_type": "markdown",
   "metadata": {},
   "source": [
    "## Create a project"
   ]
  },
  {
   "cell_type": "code",
   "execution_count": 4,
   "metadata": {},
   "outputs": [
    {
     "name": "stdout",
     "output_type": "stream",
     "text": [
      "Created \"C:\\Users\\SchwartzLab\\PycharmProjects\\bahavior_rig\\DLC\\top_A-Alec-2021-02-02-3d\\camera_matrix\"\n",
      "Created \"C:\\Users\\SchwartzLab\\PycharmProjects\\bahavior_rig\\DLC\\top_A-Alec-2021-02-02-3d\\calibration_images\"\n",
      "Created \"C:\\Users\\SchwartzLab\\PycharmProjects\\bahavior_rig\\DLC\\top_A-Alec-2021-02-02-3d\\undistortion\"\n",
      "Created \"C:\\Users\\SchwartzLab\\PycharmProjects\\bahavior_rig\\DLC\\top_A-Alec-2021-02-02-3d\\corners\"\n",
      "Generated \"C:\\Users\\SchwartzLab\\PycharmProjects\\bahavior_rig\\DLC\\top_A-Alec-2021-02-02-3d\\config.yaml\"\n",
      "\n",
      "A new project with name top_A-Alec-2021-02-02-3d is created at C:\\Users\\SchwartzLab\\PycharmProjects\\bahavior_rig\\DLC and a configurable file (config.yaml) is stored there. If you have not calibrated the cameras, then use the function 'calibrate_camera' to start calibrating the camera otherwise use the function ``triangulate`` to triangulate the dataframe\n"
     ]
    },
    {
     "data": {
      "text/plain": [
       "'C:\\\\Users\\\\SchwartzLab\\\\PycharmProjects\\\\bahavior_rig\\\\DLC\\\\top_A-Alec-2021-02-02-3d\\\\config.yaml'"
      ]
     },
     "execution_count": 4,
     "metadata": {},
     "output_type": "execute_result"
    }
   ],
   "source": [
    "deeplabcut.create_new_project_3d(ProjectName,NameOfLabeler,num_cameras = n_cameras)"
   ]
  },
  {
   "cell_type": "code",
   "execution_count": 5,
   "metadata": {},
   "outputs": [],
   "source": [
    "config_file=r'C:\\Users\\SchwartzLab\\PycharmProjects\\bahavior_rig\\DLC\\top_A-Alec-2021-02-02-3d\\config.yaml'"
   ]
  },
  {
   "cell_type": "code",
   "execution_count": null,
   "metadata": {},
   "outputs": [],
   "source": []
  }
 ],
 "metadata": {
  "kernelspec": {
   "display_name": "Python 3",
   "language": "python",
   "name": "python3"
  },
  "language_info": {
   "codemirror_mode": {
    "name": "ipython",
    "version": 3
   },
   "file_extension": ".py",
   "mimetype": "text/x-python",
   "name": "python",
   "nbconvert_exporter": "python",
   "pygments_lexer": "ipython3",
   "version": "3.6.12"
  }
 },
 "nbformat": 4,
 "nbformat_minor": 4
}
